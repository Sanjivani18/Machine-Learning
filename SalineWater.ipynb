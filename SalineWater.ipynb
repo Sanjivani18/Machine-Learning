{
  "nbformat": 4,
  "nbformat_minor": 0,
  "metadata": {
    "colab": {
      "name": "SalineWater.ipynb",
      "provenance": [],
      "collapsed_sections": [],
      "toc_visible": true,
      "authorship_tag": "ABX9TyM8eR7rY5UPyAa9arf0TmhF",
      "include_colab_link": true
    },
    "kernelspec": {
      "name": "python3",
      "display_name": "Python 3"
    }
  },
  "cells": [
    {
      "cell_type": "markdown",
      "metadata": {
        "id": "view-in-github",
        "colab_type": "text"
      },
      "source": [
        "<a href=\"https://colab.research.google.com/github/Sanjivani18/Machine-Learning/blob/master/SalineWater.ipynb\" target=\"_parent\"><img src=\"https://colab.research.google.com/assets/colab-badge.svg\" alt=\"Open In Colab\"/></a>"
      ]
    },
    {
      "cell_type": "markdown",
      "metadata": {
        "id": "3VpH2m1aCtpt",
        "colab_type": "text"
      },
      "source": [
        "Make a linear regression line between the temperature and the salinity of the ocean.\n",
        "Predict five values and mention the accuracy of your model(With the predicted values and actual values shown). Mention your training/test set ratio. \n"
      ]
    },
    {
      "cell_type": "markdown",
      "metadata": {
        "id": "ydVaJ7TGD7oB",
        "colab_type": "text"
      },
      "source": [
        "# Importing Libraries and Dataset\n"
      ]
    },
    {
      "cell_type": "code",
      "metadata": {
        "id": "hBCjz5g2tTHj",
        "colab_type": "code",
        "colab": {
          "base_uri": "https://localhost:8080/",
          "height": 71
        },
        "outputId": "c4360609-a372-41a9-d687-b83ab00710df"
      },
      "source": [
        "import pandas as pd\n",
        "import numpy as np\n",
        "import matplotlib.pyplot as plt\n",
        "import seaborn as sns\n"
      ],
      "execution_count": null,
      "outputs": [
        {
          "output_type": "stream",
          "text": [
            "/usr/local/lib/python3.6/dist-packages/statsmodels/tools/_testing.py:19: FutureWarning: pandas.util.testing is deprecated. Use the functions in the public API at pandas.testing instead.\n",
            "  import pandas.util.testing as tm\n"
          ],
          "name": "stderr"
        }
      ]
    },
    {
      "cell_type": "code",
      "metadata": {
        "id": "JLnl8bU9u5lY",
        "colab_type": "code",
        "colab": {
          "base_uri": "https://localhost:8080/",
          "height": 122
        },
        "outputId": "7c01672a-5bb9-4024-efd1-bd788549e385"
      },
      "source": [
        "from google.colab import drive\n",
        "drive.mount('/content/drive')"
      ],
      "execution_count": null,
      "outputs": [
        {
          "output_type": "stream",
          "text": [
            "Go to this URL in a browser: https://accounts.google.com/o/oauth2/auth?client_id=947318989803-6bn6qk8qdgf4n4g3pfee6491hc0brc4i.apps.googleusercontent.com&redirect_uri=urn%3aietf%3awg%3aoauth%3a2.0%3aoob&response_type=code&scope=email%20https%3a%2f%2fwww.googleapis.com%2fauth%2fdocs.test%20https%3a%2f%2fwww.googleapis.com%2fauth%2fdrive%20https%3a%2f%2fwww.googleapis.com%2fauth%2fdrive.photos.readonly%20https%3a%2f%2fwww.googleapis.com%2fauth%2fpeopleapi.readonly\n",
            "\n",
            "Enter your authorization code:\n",
            "··········\n",
            "Mounted at /content/drive\n"
          ],
          "name": "stdout"
        }
      ]
    },
    {
      "cell_type": "code",
      "metadata": {
        "id": "y0pdvEUgv9vY",
        "colab_type": "code",
        "colab": {}
      },
      "source": [
        "path = \"/content/bottle.csv\"\n",
        "df = pd.read_csv(path)"
      ],
      "execution_count": null,
      "outputs": []
    },
    {
      "cell_type": "markdown",
      "metadata": {
        "id": "GiSmBZFYEF1a",
        "colab_type": "text"
      },
      "source": [
        "# Data Preprocessing /Cleaning"
      ]
    },
    {
      "cell_type": "code",
      "metadata": {
        "id": "OOarxrAiwWEY",
        "colab_type": "code",
        "colab": {
          "base_uri": "https://localhost:8080/",
          "height": 683
        },
        "outputId": "1e697584-c7bb-4322-e683-9435d3b31794"
      },
      "source": [
        "df = df[:][:500]\n",
        "df.head()"
      ],
      "execution_count": null,
      "outputs": [
        {
          "output_type": "execute_result",
          "data": {
            "text/html": [
              "<div>\n",
              "<style scoped>\n",
              "    .dataframe tbody tr th:only-of-type {\n",
              "        vertical-align: middle;\n",
              "    }\n",
              "\n",
              "    .dataframe tbody tr th {\n",
              "        vertical-align: top;\n",
              "    }\n",
              "\n",
              "    .dataframe thead th {\n",
              "        text-align: right;\n",
              "    }\n",
              "</style>\n",
              "<table border=\"1\" class=\"dataframe\">\n",
              "  <thead>\n",
              "    <tr style=\"text-align: right;\">\n",
              "      <th></th>\n",
              "      <th>Cst_Cnt</th>\n",
              "      <th>Btl_Cnt</th>\n",
              "      <th>Sta_ID</th>\n",
              "      <th>Depth_ID</th>\n",
              "      <th>Depthm</th>\n",
              "      <th>T_degC</th>\n",
              "      <th>Salnty</th>\n",
              "      <th>O2ml_L</th>\n",
              "      <th>STheta</th>\n",
              "      <th>O2Sat</th>\n",
              "      <th>Oxy_µmol/Kg</th>\n",
              "      <th>BtlNum</th>\n",
              "      <th>RecInd</th>\n",
              "      <th>T_prec</th>\n",
              "      <th>T_qual</th>\n",
              "      <th>S_prec</th>\n",
              "      <th>S_qual</th>\n",
              "      <th>P_qual</th>\n",
              "      <th>O_qual</th>\n",
              "      <th>SThtaq</th>\n",
              "      <th>O2Satq</th>\n",
              "      <th>ChlorA</th>\n",
              "      <th>Chlqua</th>\n",
              "      <th>Phaeop</th>\n",
              "      <th>Phaqua</th>\n",
              "      <th>PO4uM</th>\n",
              "      <th>PO4q</th>\n",
              "      <th>SiO3uM</th>\n",
              "      <th>SiO3qu</th>\n",
              "      <th>NO2uM</th>\n",
              "      <th>NO2q</th>\n",
              "      <th>NO3uM</th>\n",
              "      <th>NO3q</th>\n",
              "      <th>NH3uM</th>\n",
              "      <th>NH3q</th>\n",
              "      <th>C14As1</th>\n",
              "      <th>C14A1p</th>\n",
              "      <th>C14A1q</th>\n",
              "      <th>C14As2</th>\n",
              "      <th>C14A2p</th>\n",
              "      <th>C14A2q</th>\n",
              "      <th>DarkAs</th>\n",
              "      <th>DarkAp</th>\n",
              "      <th>DarkAq</th>\n",
              "      <th>MeanAs</th>\n",
              "      <th>MeanAp</th>\n",
              "      <th>MeanAq</th>\n",
              "      <th>IncTim</th>\n",
              "      <th>LightP</th>\n",
              "      <th>R_Depth</th>\n",
              "      <th>R_TEMP</th>\n",
              "      <th>R_POTEMP</th>\n",
              "      <th>R_SALINITY</th>\n",
              "      <th>R_SIGMA</th>\n",
              "      <th>R_SVA</th>\n",
              "      <th>R_DYNHT</th>\n",
              "      <th>R_O2</th>\n",
              "      <th>R_O2Sat</th>\n",
              "      <th>R_SIO3</th>\n",
              "      <th>R_PO4</th>\n",
              "      <th>R_NO3</th>\n",
              "      <th>R_NO2</th>\n",
              "      <th>R_NH4</th>\n",
              "      <th>R_CHLA</th>\n",
              "      <th>R_PHAEO</th>\n",
              "      <th>R_PRES</th>\n",
              "      <th>R_SAMP</th>\n",
              "      <th>DIC1</th>\n",
              "      <th>DIC2</th>\n",
              "      <th>TA1</th>\n",
              "      <th>TA2</th>\n",
              "      <th>pH2</th>\n",
              "      <th>pH1</th>\n",
              "      <th>DIC Quality Comment</th>\n",
              "    </tr>\n",
              "  </thead>\n",
              "  <tbody>\n",
              "    <tr>\n",
              "      <th>0</th>\n",
              "      <td>1</td>\n",
              "      <td>1</td>\n",
              "      <td>054.0 056.0</td>\n",
              "      <td>19-4903CR-HY-060-0930-05400560-0000A-3</td>\n",
              "      <td>0</td>\n",
              "      <td>10.50</td>\n",
              "      <td>33.440</td>\n",
              "      <td>NaN</td>\n",
              "      <td>25.649</td>\n",
              "      <td>NaN</td>\n",
              "      <td>NaN</td>\n",
              "      <td>NaN</td>\n",
              "      <td>3</td>\n",
              "      <td>1.0</td>\n",
              "      <td>NaN</td>\n",
              "      <td>2.0</td>\n",
              "      <td>NaN</td>\n",
              "      <td>9</td>\n",
              "      <td>9.0</td>\n",
              "      <td>NaN</td>\n",
              "      <td>9.0</td>\n",
              "      <td>NaN</td>\n",
              "      <td>9.0</td>\n",
              "      <td>NaN</td>\n",
              "      <td>9.0</td>\n",
              "      <td>NaN</td>\n",
              "      <td>9.0</td>\n",
              "      <td>NaN</td>\n",
              "      <td>9.0</td>\n",
              "      <td>NaN</td>\n",
              "      <td>9.0</td>\n",
              "      <td>NaN</td>\n",
              "      <td>9.0</td>\n",
              "      <td>NaN</td>\n",
              "      <td>9.0</td>\n",
              "      <td>NaN</td>\n",
              "      <td>NaN</td>\n",
              "      <td>9.0</td>\n",
              "      <td>NaN</td>\n",
              "      <td>NaN</td>\n",
              "      <td>9.0</td>\n",
              "      <td>NaN</td>\n",
              "      <td>NaN</td>\n",
              "      <td>9.0</td>\n",
              "      <td>NaN</td>\n",
              "      <td>NaN</td>\n",
              "      <td>9.0</td>\n",
              "      <td>NaN</td>\n",
              "      <td>NaN</td>\n",
              "      <td>0.0</td>\n",
              "      <td>10.50</td>\n",
              "      <td>10.50</td>\n",
              "      <td>33.440</td>\n",
              "      <td>25.64</td>\n",
              "      <td>233.0</td>\n",
              "      <td>0.00</td>\n",
              "      <td>NaN</td>\n",
              "      <td>NaN</td>\n",
              "      <td>NaN</td>\n",
              "      <td>NaN</td>\n",
              "      <td>NaN</td>\n",
              "      <td>NaN</td>\n",
              "      <td>NaN</td>\n",
              "      <td>NaN</td>\n",
              "      <td>NaN</td>\n",
              "      <td>0.0</td>\n",
              "      <td>NaN</td>\n",
              "      <td>NaN</td>\n",
              "      <td>NaN</td>\n",
              "      <td>NaN</td>\n",
              "      <td>NaN</td>\n",
              "      <td>NaN</td>\n",
              "      <td>NaN</td>\n",
              "      <td>NaN</td>\n",
              "    </tr>\n",
              "    <tr>\n",
              "      <th>1</th>\n",
              "      <td>1</td>\n",
              "      <td>2</td>\n",
              "      <td>054.0 056.0</td>\n",
              "      <td>19-4903CR-HY-060-0930-05400560-0008A-3</td>\n",
              "      <td>8</td>\n",
              "      <td>10.46</td>\n",
              "      <td>33.440</td>\n",
              "      <td>NaN</td>\n",
              "      <td>25.656</td>\n",
              "      <td>NaN</td>\n",
              "      <td>NaN</td>\n",
              "      <td>NaN</td>\n",
              "      <td>3</td>\n",
              "      <td>2.0</td>\n",
              "      <td>NaN</td>\n",
              "      <td>2.0</td>\n",
              "      <td>NaN</td>\n",
              "      <td>9</td>\n",
              "      <td>9.0</td>\n",
              "      <td>NaN</td>\n",
              "      <td>9.0</td>\n",
              "      <td>NaN</td>\n",
              "      <td>9.0</td>\n",
              "      <td>NaN</td>\n",
              "      <td>9.0</td>\n",
              "      <td>NaN</td>\n",
              "      <td>9.0</td>\n",
              "      <td>NaN</td>\n",
              "      <td>9.0</td>\n",
              "      <td>NaN</td>\n",
              "      <td>9.0</td>\n",
              "      <td>NaN</td>\n",
              "      <td>9.0</td>\n",
              "      <td>NaN</td>\n",
              "      <td>9.0</td>\n",
              "      <td>NaN</td>\n",
              "      <td>NaN</td>\n",
              "      <td>9.0</td>\n",
              "      <td>NaN</td>\n",
              "      <td>NaN</td>\n",
              "      <td>9.0</td>\n",
              "      <td>NaN</td>\n",
              "      <td>NaN</td>\n",
              "      <td>9.0</td>\n",
              "      <td>NaN</td>\n",
              "      <td>NaN</td>\n",
              "      <td>9.0</td>\n",
              "      <td>NaN</td>\n",
              "      <td>NaN</td>\n",
              "      <td>8.0</td>\n",
              "      <td>10.46</td>\n",
              "      <td>10.46</td>\n",
              "      <td>33.440</td>\n",
              "      <td>25.65</td>\n",
              "      <td>232.5</td>\n",
              "      <td>0.01</td>\n",
              "      <td>NaN</td>\n",
              "      <td>NaN</td>\n",
              "      <td>NaN</td>\n",
              "      <td>NaN</td>\n",
              "      <td>NaN</td>\n",
              "      <td>NaN</td>\n",
              "      <td>NaN</td>\n",
              "      <td>NaN</td>\n",
              "      <td>NaN</td>\n",
              "      <td>8.0</td>\n",
              "      <td>NaN</td>\n",
              "      <td>NaN</td>\n",
              "      <td>NaN</td>\n",
              "      <td>NaN</td>\n",
              "      <td>NaN</td>\n",
              "      <td>NaN</td>\n",
              "      <td>NaN</td>\n",
              "      <td>NaN</td>\n",
              "    </tr>\n",
              "    <tr>\n",
              "      <th>2</th>\n",
              "      <td>1</td>\n",
              "      <td>3</td>\n",
              "      <td>054.0 056.0</td>\n",
              "      <td>19-4903CR-HY-060-0930-05400560-0010A-7</td>\n",
              "      <td>10</td>\n",
              "      <td>10.46</td>\n",
              "      <td>33.437</td>\n",
              "      <td>NaN</td>\n",
              "      <td>25.654</td>\n",
              "      <td>NaN</td>\n",
              "      <td>NaN</td>\n",
              "      <td>NaN</td>\n",
              "      <td>7</td>\n",
              "      <td>2.0</td>\n",
              "      <td>NaN</td>\n",
              "      <td>3.0</td>\n",
              "      <td>NaN</td>\n",
              "      <td>9</td>\n",
              "      <td>9.0</td>\n",
              "      <td>NaN</td>\n",
              "      <td>9.0</td>\n",
              "      <td>NaN</td>\n",
              "      <td>9.0</td>\n",
              "      <td>NaN</td>\n",
              "      <td>9.0</td>\n",
              "      <td>NaN</td>\n",
              "      <td>9.0</td>\n",
              "      <td>NaN</td>\n",
              "      <td>9.0</td>\n",
              "      <td>NaN</td>\n",
              "      <td>9.0</td>\n",
              "      <td>NaN</td>\n",
              "      <td>9.0</td>\n",
              "      <td>NaN</td>\n",
              "      <td>9.0</td>\n",
              "      <td>NaN</td>\n",
              "      <td>NaN</td>\n",
              "      <td>9.0</td>\n",
              "      <td>NaN</td>\n",
              "      <td>NaN</td>\n",
              "      <td>9.0</td>\n",
              "      <td>NaN</td>\n",
              "      <td>NaN</td>\n",
              "      <td>9.0</td>\n",
              "      <td>NaN</td>\n",
              "      <td>NaN</td>\n",
              "      <td>9.0</td>\n",
              "      <td>NaN</td>\n",
              "      <td>NaN</td>\n",
              "      <td>10.0</td>\n",
              "      <td>10.46</td>\n",
              "      <td>10.46</td>\n",
              "      <td>33.437</td>\n",
              "      <td>25.65</td>\n",
              "      <td>232.8</td>\n",
              "      <td>0.02</td>\n",
              "      <td>NaN</td>\n",
              "      <td>NaN</td>\n",
              "      <td>NaN</td>\n",
              "      <td>NaN</td>\n",
              "      <td>NaN</td>\n",
              "      <td>NaN</td>\n",
              "      <td>NaN</td>\n",
              "      <td>NaN</td>\n",
              "      <td>NaN</td>\n",
              "      <td>10.0</td>\n",
              "      <td>NaN</td>\n",
              "      <td>NaN</td>\n",
              "      <td>NaN</td>\n",
              "      <td>NaN</td>\n",
              "      <td>NaN</td>\n",
              "      <td>NaN</td>\n",
              "      <td>NaN</td>\n",
              "      <td>NaN</td>\n",
              "    </tr>\n",
              "    <tr>\n",
              "      <th>3</th>\n",
              "      <td>1</td>\n",
              "      <td>4</td>\n",
              "      <td>054.0 056.0</td>\n",
              "      <td>19-4903CR-HY-060-0930-05400560-0019A-3</td>\n",
              "      <td>19</td>\n",
              "      <td>10.45</td>\n",
              "      <td>33.420</td>\n",
              "      <td>NaN</td>\n",
              "      <td>25.643</td>\n",
              "      <td>NaN</td>\n",
              "      <td>NaN</td>\n",
              "      <td>NaN</td>\n",
              "      <td>3</td>\n",
              "      <td>2.0</td>\n",
              "      <td>NaN</td>\n",
              "      <td>2.0</td>\n",
              "      <td>NaN</td>\n",
              "      <td>9</td>\n",
              "      <td>9.0</td>\n",
              "      <td>NaN</td>\n",
              "      <td>9.0</td>\n",
              "      <td>NaN</td>\n",
              "      <td>9.0</td>\n",
              "      <td>NaN</td>\n",
              "      <td>9.0</td>\n",
              "      <td>NaN</td>\n",
              "      <td>9.0</td>\n",
              "      <td>NaN</td>\n",
              "      <td>9.0</td>\n",
              "      <td>NaN</td>\n",
              "      <td>9.0</td>\n",
              "      <td>NaN</td>\n",
              "      <td>9.0</td>\n",
              "      <td>NaN</td>\n",
              "      <td>9.0</td>\n",
              "      <td>NaN</td>\n",
              "      <td>NaN</td>\n",
              "      <td>9.0</td>\n",
              "      <td>NaN</td>\n",
              "      <td>NaN</td>\n",
              "      <td>9.0</td>\n",
              "      <td>NaN</td>\n",
              "      <td>NaN</td>\n",
              "      <td>9.0</td>\n",
              "      <td>NaN</td>\n",
              "      <td>NaN</td>\n",
              "      <td>9.0</td>\n",
              "      <td>NaN</td>\n",
              "      <td>NaN</td>\n",
              "      <td>19.0</td>\n",
              "      <td>10.45</td>\n",
              "      <td>10.45</td>\n",
              "      <td>33.420</td>\n",
              "      <td>25.64</td>\n",
              "      <td>234.1</td>\n",
              "      <td>0.04</td>\n",
              "      <td>NaN</td>\n",
              "      <td>NaN</td>\n",
              "      <td>NaN</td>\n",
              "      <td>NaN</td>\n",
              "      <td>NaN</td>\n",
              "      <td>NaN</td>\n",
              "      <td>NaN</td>\n",
              "      <td>NaN</td>\n",
              "      <td>NaN</td>\n",
              "      <td>19.0</td>\n",
              "      <td>NaN</td>\n",
              "      <td>NaN</td>\n",
              "      <td>NaN</td>\n",
              "      <td>NaN</td>\n",
              "      <td>NaN</td>\n",
              "      <td>NaN</td>\n",
              "      <td>NaN</td>\n",
              "      <td>NaN</td>\n",
              "    </tr>\n",
              "    <tr>\n",
              "      <th>4</th>\n",
              "      <td>1</td>\n",
              "      <td>5</td>\n",
              "      <td>054.0 056.0</td>\n",
              "      <td>19-4903CR-HY-060-0930-05400560-0020A-7</td>\n",
              "      <td>20</td>\n",
              "      <td>10.45</td>\n",
              "      <td>33.421</td>\n",
              "      <td>NaN</td>\n",
              "      <td>25.643</td>\n",
              "      <td>NaN</td>\n",
              "      <td>NaN</td>\n",
              "      <td>NaN</td>\n",
              "      <td>7</td>\n",
              "      <td>2.0</td>\n",
              "      <td>NaN</td>\n",
              "      <td>3.0</td>\n",
              "      <td>NaN</td>\n",
              "      <td>9</td>\n",
              "      <td>9.0</td>\n",
              "      <td>NaN</td>\n",
              "      <td>9.0</td>\n",
              "      <td>NaN</td>\n",
              "      <td>9.0</td>\n",
              "      <td>NaN</td>\n",
              "      <td>9.0</td>\n",
              "      <td>NaN</td>\n",
              "      <td>9.0</td>\n",
              "      <td>NaN</td>\n",
              "      <td>9.0</td>\n",
              "      <td>NaN</td>\n",
              "      <td>9.0</td>\n",
              "      <td>NaN</td>\n",
              "      <td>9.0</td>\n",
              "      <td>NaN</td>\n",
              "      <td>9.0</td>\n",
              "      <td>NaN</td>\n",
              "      <td>NaN</td>\n",
              "      <td>9.0</td>\n",
              "      <td>NaN</td>\n",
              "      <td>NaN</td>\n",
              "      <td>9.0</td>\n",
              "      <td>NaN</td>\n",
              "      <td>NaN</td>\n",
              "      <td>9.0</td>\n",
              "      <td>NaN</td>\n",
              "      <td>NaN</td>\n",
              "      <td>9.0</td>\n",
              "      <td>NaN</td>\n",
              "      <td>NaN</td>\n",
              "      <td>20.0</td>\n",
              "      <td>10.45</td>\n",
              "      <td>10.45</td>\n",
              "      <td>33.421</td>\n",
              "      <td>25.64</td>\n",
              "      <td>234.0</td>\n",
              "      <td>0.04</td>\n",
              "      <td>NaN</td>\n",
              "      <td>NaN</td>\n",
              "      <td>NaN</td>\n",
              "      <td>NaN</td>\n",
              "      <td>NaN</td>\n",
              "      <td>NaN</td>\n",
              "      <td>NaN</td>\n",
              "      <td>NaN</td>\n",
              "      <td>NaN</td>\n",
              "      <td>20.0</td>\n",
              "      <td>NaN</td>\n",
              "      <td>NaN</td>\n",
              "      <td>NaN</td>\n",
              "      <td>NaN</td>\n",
              "      <td>NaN</td>\n",
              "      <td>NaN</td>\n",
              "      <td>NaN</td>\n",
              "      <td>NaN</td>\n",
              "    </tr>\n",
              "  </tbody>\n",
              "</table>\n",
              "</div>"
            ],
            "text/plain": [
              "   Cst_Cnt  Btl_Cnt       Sta_ID  ... pH2  pH1  DIC Quality Comment\n",
              "0        1        1  054.0 056.0  ... NaN  NaN                  NaN\n",
              "1        1        2  054.0 056.0  ... NaN  NaN                  NaN\n",
              "2        1        3  054.0 056.0  ... NaN  NaN                  NaN\n",
              "3        1        4  054.0 056.0  ... NaN  NaN                  NaN\n",
              "4        1        5  054.0 056.0  ... NaN  NaN                  NaN\n",
              "\n",
              "[5 rows x 74 columns]"
            ]
          },
          "metadata": {
            "tags": []
          },
          "execution_count": 56
        }
      ]
    },
    {
      "cell_type": "code",
      "metadata": {
        "id": "tyrTf8VD3eYw",
        "colab_type": "code",
        "colab": {}
      },
      "source": [
        "X=df.iloc[:,6].values.reshape(-1,1)\n",
        "y=df.iloc[:,5].values.reshape(-1,1)"
      ],
      "execution_count": null,
      "outputs": []
    },
    {
      "cell_type": "code",
      "metadata": {
        "id": "KkUvx6lS3kx-",
        "colab_type": "code",
        "colab": {
          "base_uri": "https://localhost:8080/",
          "height": 51
        },
        "outputId": "cfbf09d7-efdc-4c25-d8c8-ee0b5fb4e2a1"
      },
      "source": [
        "print(np.any(np.isnan(X)))\n",
        "print(np.any(np.isnan(y)))"
      ],
      "execution_count": null,
      "outputs": [
        {
          "output_type": "stream",
          "text": [
            "True\n",
            "True\n"
          ],
          "name": "stdout"
        }
      ]
    },
    {
      "cell_type": "code",
      "metadata": {
        "id": "mc-6ZqJc3sC3",
        "colab_type": "code",
        "colab": {}
      },
      "source": [
        "from sklearn.impute import SimpleImputer\n",
        "imputer=SimpleImputer(missing_values=np.NaN,strategy='mean')\n",
        "imputer=imputer.fit(X)\n",
        "X=imputer.transform(X)\n",
        "imputer=imputer.fit(y)\n",
        "y=imputer.transform(y)"
      ],
      "execution_count": null,
      "outputs": []
    },
    {
      "cell_type": "code",
      "metadata": {
        "id": "3qw4_Jh64ISY",
        "colab_type": "code",
        "colab": {
          "base_uri": "https://localhost:8080/",
          "height": 51
        },
        "outputId": "84c80f6b-1e82-4143-a522-e826c35919ba"
      },
      "source": [
        "print(np.any(np.isnan(X)))\n",
        "print(np.any(np.isnan(y)))"
      ],
      "execution_count": null,
      "outputs": [
        {
          "output_type": "stream",
          "text": [
            "False\n",
            "False\n"
          ],
          "name": "stdout"
        }
      ]
    },
    {
      "cell_type": "markdown",
      "metadata": {
        "id": "VbLdwjW8EWkR",
        "colab_type": "text"
      },
      "source": [
        "# Training & Testing"
      ]
    },
    {
      "cell_type": "code",
      "metadata": {
        "id": "ekWWS6Ar6JtP",
        "colab_type": "code",
        "colab": {}
      },
      "source": [
        "from sklearn.model_selection import train_test_split\n",
        "X_train,X_test,y_train,y_test=train_test_split(X,y,test_size=0.2,random_state=0)"
      ],
      "execution_count": 93,
      "outputs": []
    },
    {
      "cell_type": "code",
      "metadata": {
        "id": "jNB2rSv17m91",
        "colab_type": "code",
        "colab": {
          "base_uri": "https://localhost:8080/",
          "height": 282
        },
        "outputId": "297825fa-7bfc-43d7-a8f3-1bcc92208d95"
      },
      "source": [
        "plt.scatter(X_train,y_train)"
      ],
      "execution_count": 94,
      "outputs": [
        {
          "output_type": "execute_result",
          "data": {
            "text/plain": [
              "<matplotlib.collections.PathCollection at 0x7f4b7be647f0>"
            ]
          },
          "metadata": {
            "tags": []
          },
          "execution_count": 94
        },
        {
          "output_type": "display_data",
          "data": {
            "image/png": "[encoded data removed]",
            "text/plain": [
              "<Figure size 432x288 with 1 Axes>"
            ]
          },
          "metadata": {
            "tags": [],
            "needs_background": "light"
          }
        }
      ]
    },
    {
      "cell_type": "markdown",
      "metadata": {
        "id": "fx-9MF7QEnpW",
        "colab_type": "text"
      },
      "source": [
        "# Regression"
      ]
    },
    {
      "cell_type": "code",
      "metadata": {
        "id": "LRAVTJcw9LLS",
        "colab_type": "code",
        "colab": {
          "base_uri": "https://localhost:8080/",
          "height": 34
        },
        "outputId": "b4cdf879-b94a-4fe7-eb5a-9e07e811067d"
      },
      "source": [
        "from sklearn.linear_model import LinearRegression\n",
        "regressor=LinearRegression()\n",
        "regressor.fit(X_train,y_train)"
      ],
      "execution_count": 95,
      "outputs": [
        {
          "output_type": "execute_result",
          "data": {
            "text/plain": [
              "LinearRegression(copy_X=True, fit_intercept=True, n_jobs=None, normalize=False)"
            ]
          },
          "metadata": {
            "tags": []
          },
          "execution_count": 95
        }
      ]
    },
    {
      "cell_type": "code",
      "metadata": {
        "id": "0niYNn4p--kG",
        "colab_type": "code",
        "colab": {}
      },
      "source": [
        "y_pred=regressor.predict(X_test)"
      ],
      "execution_count": 96,
      "outputs": []
    },
    {
      "cell_type": "markdown",
      "metadata": {
        "id": "eqlvWfmAE5mL",
        "colab_type": "text"
      },
      "source": [
        "# Visualisation "
      ]
    },
    {
      "cell_type": "code",
      "metadata": {
        "id": "WH0YXznt_C2x",
        "colab_type": "code",
        "colab": {
          "base_uri": "https://localhost:8080/",
          "height": 295
        },
        "outputId": "34172104-e52b-4d01-e4ab-fec8d1d452ad"
      },
      "source": [
        "plt.scatter(X_train, y_train, color = 'red')\n",
        "plt.plot(X_train, regressor.predict(X_train), color = 'blue')\n",
        "plt.title('Salinity vs Temperature (Training set)')\n",
        "plt.xlabel('Temperature')\n",
        "plt.ylabel('Salinity')\n",
        "plt.show()"
      ],
      "execution_count": 97,
      "outputs": [
        {
          "output_type": "display_data",
          "data": {
            "image/png": "[encoded data removed]",
            "text/plain": [
              "<Figure size 432x288 with 1 Axes>"
            ]
          },
          "metadata": {
            "tags": [],
            "needs_background": "light"
          }
        }
      ]
    },
    {
      "cell_type": "code",
      "metadata": {
        "id": "HXHK0HoZ_FTN",
        "colab_type": "code",
        "colab": {
          "base_uri": "https://localhost:8080/",
          "height": 295
        },
        "outputId": "4ad01858-1168-4c09-d533-41317b4ca220"
      },
      "source": [
        "plt.scatter(X_test, y_test, color = 'Blue')\n",
        "plt.plot(X_test, regressor.predict(X_test), color = 'Blue')\n",
        "plt.title('Salinity vs Temperature (Testing set)')\n",
        "plt.xlabel('Temperature')\n",
        "plt.ylabel('Salinity')\n",
        "plt.show()"
      ],
      "execution_count": 98,
      "outputs": [
        {
          "output_type": "display_data",
          "data": {
            "image/png": "[encoded data removed]",
            "text/plain": [
              "<Figure size 432x288 with 1 Axes>"
            ]
          },
          "metadata": {
            "tags": [],
            "needs_background": "light"
          }
        }
      ]
    },
    {
      "cell_type": "markdown",
      "metadata": {
        "id": "51tg27gSE_cY",
        "colab_type": "text"
      },
      "source": [
        "# Accuracy and Predictions"
      ]
    },
    {
      "cell_type": "code",
      "metadata": {
        "id": "Do79wXtO_X3G",
        "colab_type": "code",
        "colab": {
          "base_uri": "https://localhost:8080/",
          "height": 34
        },
        "outputId": "f827a92f-f077-42cd-b19e-27f1cdb425ce"
      },
      "source": [
        "acc=regressor.score(X_test,y_test)\n",
        "acc\n"
      ],
      "execution_count": 99,
      "outputs": [
        {
          "output_type": "execute_result",
          "data": {
            "text/plain": [
              "0.837259358365476"
            ]
          },
          "metadata": {
            "tags": []
          },
          "execution_count": 99
        }
      ]
    },
    {
      "cell_type": "code",
      "metadata": {
        "id": "HsgisXtZPI7e",
        "colab_type": "code",
        "colab": {
          "base_uri": "https://localhost:8080/",
          "height": 34
        },
        "outputId": "3fecb310-d8c0-452d-b14d-bbe85f4affb9"
      },
      "source": [
        "print(regressor.intercept_)"
      ],
      "execution_count": 100,
      "outputs": [
        {
          "output_type": "stream",
          "text": [
            "[166.98070981]\n"
          ],
          "name": "stdout"
        }
      ]
    },
    {
      "cell_type": "code",
      "metadata": {
        "id": "CEHqNN2_PxP1",
        "colab_type": "code",
        "colab": {
          "base_uri": "https://localhost:8080/",
          "height": 34
        },
        "outputId": "e231b90f-021d-43be-afeb-b2fd9199ffa7"
      },
      "source": [
        "print(regressor.coef_)"
      ],
      "execution_count": 101,
      "outputs": [
        {
          "output_type": "stream",
          "text": [
            "[[-4.73417184]]\n"
          ],
          "name": "stdout"
        }
      ]
    },
    {
      "cell_type": "code",
      "metadata": {
        "id": "grq131Iv_bOZ",
        "colab_type": "code",
        "colab": {
          "base_uri": "https://localhost:8080/",
          "height": 34
        },
        "outputId": "d507da42-7166-4b8d-a969-87b2ca65ceb0"
      },
      "source": [
        "print(regressor.predict([[15]]))"
      ],
      "execution_count": 102,
      "outputs": [
        {
          "output_type": "stream",
          "text": [
            "[[95.96813219]]\n"
          ],
          "name": "stdout"
        }
      ]
    },
    {
      "cell_type": "code",
      "metadata": {
        "id": "gTWj7EN4DPx7",
        "colab_type": "code",
        "colab": {
          "base_uri": "https://localhost:8080/",
          "height": 34
        },
        "outputId": "995c7ea1-b958-4297-f86b-d067451d9ed3"
      },
      "source": [
        "print(regressor.predict([[12]]))"
      ],
      "execution_count": 103,
      "outputs": [
        {
          "output_type": "stream",
          "text": [
            "[[110.17064771]]\n"
          ],
          "name": "stdout"
        }
      ]
    },
    {
      "cell_type": "code",
      "metadata": {
        "id": "iJS4nA2nDVRv",
        "colab_type": "code",
        "colab": {
          "base_uri": "https://localhost:8080/",
          "height": 34
        },
        "outputId": "8a4ff544-fc8b-4a2a-ac63-46da37cce30b"
      },
      "source": [
        "print(regressor.predict([[20]]))"
      ],
      "execution_count": 104,
      "outputs": [
        {
          "output_type": "stream",
          "text": [
            "[[72.29727298]]\n"
          ],
          "name": "stdout"
        }
      ]
    },
    {
      "cell_type": "code",
      "metadata": {
        "id": "d8o7KeAgDYIk",
        "colab_type": "code",
        "colab": {
          "base_uri": "https://localhost:8080/",
          "height": 34
        },
        "outputId": "284874dc-edd3-46c7-d363-89a8856a834a"
      },
      "source": [
        "print(regressor.predict([[100]]))"
      ],
      "execution_count": 105,
      "outputs": [
        {
          "output_type": "stream",
          "text": [
            "[[-306.43647432]]\n"
          ],
          "name": "stdout"
        }
      ]
    },
    {
      "cell_type": "code",
      "metadata": {
        "id": "xF9SDIasDp2K",
        "colab_type": "code",
        "colab": {
          "base_uri": "https://localhost:8080/",
          "height": 34
        },
        "outputId": "1152695b-601e-4e08-fba8-0ed79e606f40"
      },
      "source": [
        "print(regressor.predict([[0]]))"
      ],
      "execution_count": 106,
      "outputs": [
        {
          "output_type": "stream",
          "text": [
            "[[166.98070981]]\n"
          ],
          "name": "stdout"
        }
      ]
    },
    {
      "cell_type": "code",
      "metadata": {
        "id": "YT3Bs1TwTp07",
        "colab_type": "code",
        "colab": {
          "base_uri": "https://localhost:8080/",
          "height": 1000
        },
        "outputId": "66f935af-edea-4590-99d7-0bfc149ffaf0"
      },
      "source": [
        "y_pred"
      ],
      "execution_count": 107,
      "outputs": [
        {
          "output_type": "execute_result",
          "data": {
            "text/plain": [
              "array([[11.98392372],\n",
              "       [ 4.66962823],\n",
              "       [ 4.09679343],\n",
              "       [ 8.85937031],\n",
              "       [ 4.83532424],\n",
              "       [ 3.98317331],\n",
              "       [11.32113966],\n",
              "       [ 7.98354852],\n",
              "       [ 6.25557579],\n",
              "       [ 4.24828693],\n",
              "       [ 8.44276318],\n",
              "       [ 8.76468687],\n",
              "       [ 6.23190494],\n",
              "       [11.4158231 ],\n",
              "       [ 7.72316907],\n",
              "       [ 3.98790748],\n",
              "       [ 9.40853424],\n",
              "       [ 6.31238586],\n",
              "       [ 6.96570157],\n",
              "       [ 8.30073803],\n",
              "       [ 4.55127393],\n",
              "       [ 6.11355064],\n",
              "       [11.936582  ],\n",
              "       [11.22645623],\n",
              "       [ 4.66489406],\n",
              "       [11.49630402],\n",
              "       [ 6.36919592],\n",
              "       [ 6.68165126],\n",
              "       [11.47736734],\n",
              "       [10.27962186],\n",
              "       [ 6.03780389],\n",
              "       [ 5.23299468],\n",
              "       [ 5.39869069],\n",
              "       [10.56367217],\n",
              "       [12.30111324],\n",
              "       [ 6.87101813],\n",
              "       [ 4.02578086],\n",
              "       [ 5.28980474],\n",
              "       [ 4.30036282],\n",
              "       [ 5.13357707],\n",
              "       [11.74721513],\n",
              "       [10.83351996],\n",
              "       [ 8.67000343],\n",
              "       [ 8.67000343],\n",
              "       [ 6.25084162],\n",
              "       [ 4.50866638],\n",
              "       [ 4.45659049],\n",
              "       [10.98974764],\n",
              "       [11.09863359],\n",
              "       [ 7.10772673],\n",
              "       [10.8950642 ],\n",
              "       [ 5.96205714],\n",
              "       [ 9.0960789 ],\n",
              "       [ 5.67327266],\n",
              "       [11.51050654],\n",
              "       [11.84663274],\n",
              "       [ 5.1288429 ],\n",
              "       [ 8.3386114 ],\n",
              "       [ 5.02469112],\n",
              "       [ 6.288715  ],\n",
              "       [ 8.86883865],\n",
              "       [ 5.16671627],\n",
              "       [ 8.7599527 ],\n",
              "       [10.34116609],\n",
              "       [10.1375967 ],\n",
              "       [ 4.8921343 ],\n",
              "       [ 5.66380431],\n",
              "       [ 8.71261098],\n",
              "       [11.40162059],\n",
              "       [ 4.55127393],\n",
              "       [ 8.74575018],\n",
              "       [ 8.67000343],\n",
              "       [12.00286041],\n",
              "       [ 6.06620892],\n",
              "       [ 6.7763347 ],\n",
              "       [ 6.74319549],\n",
              "       [ 6.0188672 ],\n",
              "       [ 5.16671627],\n",
              "       [ 8.05456109],\n",
              "       [ 6.50175273]])"
            ]
          },
          "metadata": {
            "tags": []
          },
          "execution_count": 107
        }
      ]
    },
    {
      "cell_type": "code",
      "metadata": {
        "id": "R9rZJkhsTuax",
        "colab_type": "code",
        "colab": {
          "base_uri": "https://localhost:8080/",
          "height": 1000
        },
        "outputId": "c78ed5ba-fa1e-434a-f658-471a87d41141"
      },
      "source": [
        "y"
      ],
      "execution_count": 108,
      "outputs": [
        {
          "output_type": "execute_result",
          "data": {
            "text/plain": [
              "array([[10.5       ],\n",
              "       [10.46      ],\n",
              "       [10.46      ],\n",
              "       [10.45      ],\n",
              "       [10.45      ],\n",
              "       [10.45      ],\n",
              "       [10.45      ],\n",
              "       [10.24      ],\n",
              "       [10.06      ],\n",
              "       [ 9.86      ],\n",
              "       [ 9.83      ],\n",
              "       [ 9.67      ],\n",
              "       [ 9.5       ],\n",
              "       [ 9.32      ],\n",
              "       [ 8.76      ],\n",
              "       [ 8.71      ],\n",
              "       [ 8.53      ],\n",
              "       [ 8.45      ],\n",
              "       [ 8.26      ],\n",
              "       [ 7.96      ],\n",
              "       [ 7.77      ],\n",
              "       [ 6.8       ],\n",
              "       [ 6.55      ],\n",
              "       [ 5.78      ],\n",
              "       [ 5.3       ],\n",
              "       [ 5.29      ],\n",
              "       [ 5.01      ],\n",
              "       [ 4.72      ],\n",
              "       [ 4.44      ],\n",
              "       [10.1       ],\n",
              "       [ 9.89      ],\n",
              "       [ 9.75      ],\n",
              "       [ 9.69      ],\n",
              "       [ 9.52      ],\n",
              "       [ 9.06      ],\n",
              "       [ 9.04      ],\n",
              "       [ 8.92      ],\n",
              "       [ 8.83      ],\n",
              "       [ 8.37      ],\n",
              "       [ 8.26      ],\n",
              "       [ 7.85      ],\n",
              "       [ 7.64      ],\n",
              "       [ 7.5       ],\n",
              "       [ 6.98      ],\n",
              "       [ 6.85      ],\n",
              "       [ 6.32      ],\n",
              "       [ 6.05      ],\n",
              "       [ 5.95      ],\n",
              "       [ 5.6       ],\n",
              "       [ 5.5       ],\n",
              "       [ 5.02      ],\n",
              "       [ 4.74      ],\n",
              "       [ 4.62      ],\n",
              "       [ 4.33      ],\n",
              "       [ 4.08      ],\n",
              "       [ 3.99      ],\n",
              "       [ 3.85      ],\n",
              "       [ 3.62      ],\n",
              "       [ 3.38      ],\n",
              "       [ 3.15      ],\n",
              "       [ 3.14      ],\n",
              "       [10.2       ],\n",
              "       [10.05      ],\n",
              "       [ 9.95      ],\n",
              "       [ 9.94      ],\n",
              "       [ 9.92      ],\n",
              "       [ 9.87      ],\n",
              "       [ 9.62      ],\n",
              "       [ 9.66      ],\n",
              "       [ 9.9       ],\n",
              "       [ 9.65      ],\n",
              "       [ 9.62      ],\n",
              "       [ 9.23      ],\n",
              "       [ 9.21      ],\n",
              "       [ 8.79      ],\n",
              "       [ 8.37      ],\n",
              "       [ 7.71      ],\n",
              "       [ 7.58      ],\n",
              "       [ 6.93      ],\n",
              "       [ 6.47      ],\n",
              "       [ 6.37      ],\n",
              "       [ 5.54      ],\n",
              "       [ 5.02      ],\n",
              "       [ 4.97      ],\n",
              "       [ 4.59      ],\n",
              "       [ 4.31      ],\n",
              "       [ 4.14      ],\n",
              "       [ 4.11      ],\n",
              "       [ 3.89      ],\n",
              "       [ 3.66      ],\n",
              "       [ 3.43      ],\n",
              "       [ 3.35      ],\n",
              "       [10.4       ],\n",
              "       [10.22      ],\n",
              "       [10.2       ],\n",
              "       [10.14      ],\n",
              "       [10.14      ],\n",
              "       [10.07      ],\n",
              "       [ 9.97      ],\n",
              "       [ 9.72      ],\n",
              "       [ 9.42      ],\n",
              "       [ 9.32      ],\n",
              "       [ 9.27      ],\n",
              "       [ 9.02      ],\n",
              "       [ 8.6       ],\n",
              "       [ 8.56      ],\n",
              "       [ 8.32      ],\n",
              "       [ 8.18      ],\n",
              "       [ 7.71      ],\n",
              "       [ 7.16      ],\n",
              "       [ 7.08      ],\n",
              "       [ 6.61      ],\n",
              "       [ 6.38      ],\n",
              "       [ 5.79      ],\n",
              "       [ 5.14      ],\n",
              "       [ 5.1       ],\n",
              "       [ 4.65      ],\n",
              "       [ 4.31      ],\n",
              "       [ 4.21      ],\n",
              "       [ 4.07      ],\n",
              "       [ 3.83      ],\n",
              "       [ 3.59      ],\n",
              "       [ 3.39      ],\n",
              "       [10.5       ],\n",
              "       [10.52      ],\n",
              "       [10.51      ],\n",
              "       [10.48      ],\n",
              "       [10.47      ],\n",
              "       [10.34      ],\n",
              "       [10.2       ],\n",
              "       [ 9.85      ],\n",
              "       [ 9.7       ],\n",
              "       [ 9.29      ],\n",
              "       [ 9.2       ],\n",
              "       [ 9.35      ],\n",
              "       [ 8.28      ],\n",
              "       [ 8.24      ],\n",
              "       [ 7.95      ],\n",
              "       [ 7.5       ],\n",
              "       [ 7.42      ],\n",
              "       [ 6.98      ],\n",
              "       [ 6.94      ],\n",
              "       [ 6.54      ],\n",
              "       [ 5.86      ],\n",
              "       [ 5.77      ],\n",
              "       [ 5.3       ],\n",
              "       [ 4.83      ],\n",
              "       [ 4.36      ],\n",
              "       [ 4.1       ],\n",
              "       [11.6       ],\n",
              "       [11.69      ],\n",
              "       [11.69      ],\n",
              "       [11.66      ],\n",
              "       [11.64      ],\n",
              "       [11.64      ],\n",
              "       [11.64      ],\n",
              "       [11.61      ],\n",
              "       [11.36      ],\n",
              "       [11.18      ],\n",
              "       [10.2       ],\n",
              "       [ 9.9       ],\n",
              "       [ 8.83      ],\n",
              "       [ 8.29      ],\n",
              "       [ 8.11      ],\n",
              "       [ 7.65      ],\n",
              "       [ 7.5       ],\n",
              "       [ 6.98      ],\n",
              "       [ 6.72      ],\n",
              "       [ 6.54      ],\n",
              "       [ 5.96      ],\n",
              "       [ 5.78      ],\n",
              "       [ 5.09      ],\n",
              "       [ 4.68      ],\n",
              "       [ 4.54      ],\n",
              "       [ 4.17      ],\n",
              "       [ 3.88      ],\n",
              "       [ 3.78      ],\n",
              "       [ 3.67      ],\n",
              "       [ 3.48      ],\n",
              "       [ 3.28      ],\n",
              "       [ 3.08      ],\n",
              "       [ 2.88      ],\n",
              "       [ 2.78      ],\n",
              "       [12.5       ],\n",
              "       [12.66      ],\n",
              "       [12.66      ],\n",
              "       [12.64      ],\n",
              "       [12.64      ],\n",
              "       [12.64      ],\n",
              "       [12.64      ],\n",
              "       [12.64      ],\n",
              "       [12.63      ],\n",
              "       [12.64      ],\n",
              "       [12.66      ],\n",
              "       [12.52      ],\n",
              "       [11.94      ],\n",
              "       [11.77      ],\n",
              "       [10.84      ],\n",
              "       [ 9.73      ],\n",
              "       [ 8.9       ],\n",
              "       [ 7.75      ],\n",
              "       [ 8.16      ],\n",
              "       [ 7.03      ],\n",
              "       [ 6.76      ],\n",
              "       [ 6.07      ],\n",
              "       [ 5.21      ],\n",
              "       [ 5.12      ],\n",
              "       [ 4.71      ],\n",
              "       [ 4.38      ],\n",
              "       [ 4.28      ],\n",
              "       [ 4.14      ],\n",
              "       [ 3.89      ],\n",
              "       [ 3.63      ],\n",
              "       [ 3.37      ],\n",
              "       [ 3.11      ],\n",
              "       [ 3.08      ],\n",
              "       [12.2       ],\n",
              "       [12.22      ],\n",
              "       [12.22      ],\n",
              "       [12.23      ],\n",
              "       [12.23      ],\n",
              "       [12.23      ],\n",
              "       [12.23      ],\n",
              "       [12.21      ],\n",
              "       [12.2       ],\n",
              "       [12.24      ],\n",
              "       [12.25      ],\n",
              "       [12.49      ],\n",
              "       [12.6       ],\n",
              "       [11.74      ],\n",
              "       [ 9.91      ],\n",
              "       [ 9.83      ],\n",
              "       [ 8.3       ],\n",
              "       [ 8.06      ],\n",
              "       [ 7.61      ],\n",
              "       [ 7.21      ],\n",
              "       [ 7.1       ],\n",
              "       [ 5.93      ],\n",
              "       [ 5.49      ],\n",
              "       [ 5.13      ],\n",
              "       [ 4.67      ],\n",
              "       [ 4.44      ],\n",
              "       [ 4.39      ],\n",
              "       [ 4.11      ],\n",
              "       [ 3.84      ],\n",
              "       [ 3.56      ],\n",
              "       [ 3.52      ],\n",
              "       [12.        ],\n",
              "       [ 8.86      ],\n",
              "       [12.        ],\n",
              "       [11.99      ],\n",
              "       [11.99      ],\n",
              "       [11.99      ],\n",
              "       [12.        ],\n",
              "       [11.95      ],\n",
              "       [11.7       ],\n",
              "       [11.57      ],\n",
              "       [11.2       ],\n",
              "       [10.67      ],\n",
              "       [ 9.36      ],\n",
              "       [ 8.88      ],\n",
              "       [ 8.56      ],\n",
              "       [ 8.31      ],\n",
              "       [ 7.98      ],\n",
              "       [ 8.05413534],\n",
              "       [ 7.38      ],\n",
              "       [ 6.86      ],\n",
              "       [ 6.68      ],\n",
              "       [ 5.94      ],\n",
              "       [ 5.34      ],\n",
              "       [ 5.22      ],\n",
              "       [ 4.73      ],\n",
              "       [ 4.37      ],\n",
              "       [ 4.32      ],\n",
              "       [ 4.11      ],\n",
              "       [ 3.84      ],\n",
              "       [ 3.58      ],\n",
              "       [ 3.32      ],\n",
              "       [ 3.2       ],\n",
              "       [11.7       ],\n",
              "       [11.62      ],\n",
              "       [11.61      ],\n",
              "       [11.58      ],\n",
              "       [11.58      ],\n",
              "       [11.58      ],\n",
              "       [11.58      ],\n",
              "       [11.56      ],\n",
              "       [11.54      ],\n",
              "       [11.31      ],\n",
              "       [11.23      ],\n",
              "       [10.82      ],\n",
              "       [10.36      ],\n",
              "       [10.21      ],\n",
              "       [ 9.49      ],\n",
              "       [ 9.16      ],\n",
              "       [ 8.71      ],\n",
              "       [ 8.49      ],\n",
              "       [ 8.39      ],\n",
              "       [ 7.91      ],\n",
              "       [ 7.66      ],\n",
              "       [ 6.99      ],\n",
              "       [ 6.24      ],\n",
              "       [ 6.17      ],\n",
              "       [ 5.48      ],\n",
              "       [ 4.89      ],\n",
              "       [ 4.72      ],\n",
              "       [ 4.53      ],\n",
              "       [ 4.23      ],\n",
              "       [ 3.94      ],\n",
              "       [ 3.65      ],\n",
              "       [ 3.42      ],\n",
              "       [11.5       ],\n",
              "       [11.5       ],\n",
              "       [11.5       ],\n",
              "       [11.5       ],\n",
              "       [11.5       ],\n",
              "       [11.52      ],\n",
              "       [11.53      ],\n",
              "       [11.49      ],\n",
              "       [11.42      ],\n",
              "       [11.4       ],\n",
              "       [11.37      ],\n",
              "       [11.13      ],\n",
              "       [10.63      ],\n",
              "       [10.56      ],\n",
              "       [ 9.73      ],\n",
              "       [ 9.17      ],\n",
              "       [ 8.66      ],\n",
              "       [ 8.28      ],\n",
              "       [ 8.25      ],\n",
              "       [ 7.78      ],\n",
              "       [ 7.55      ],\n",
              "       [ 6.93      ],\n",
              "       [ 6.3       ],\n",
              "       [ 6.16      ],\n",
              "       [ 5.48      ],\n",
              "       [ 4.9       ],\n",
              "       [ 4.8       ],\n",
              "       [ 4.55      ],\n",
              "       [ 4.24      ],\n",
              "       [ 3.93      ],\n",
              "       [ 3.63      ],\n",
              "       [ 3.57      ],\n",
              "       [11.4       ],\n",
              "       [11.38      ],\n",
              "       [11.38      ],\n",
              "       [11.39      ],\n",
              "       [11.39      ],\n",
              "       [11.39      ],\n",
              "       [11.4       ],\n",
              "       [11.35      ],\n",
              "       [11.23      ],\n",
              "       [11.35      ],\n",
              "       [11.49      ],\n",
              "       [11.07      ],\n",
              "       [ 9.79      ],\n",
              "       [ 9.19      ],\n",
              "       [ 8.87      ],\n",
              "       [ 8.56      ],\n",
              "       [ 8.24      ],\n",
              "       [ 7.61      ],\n",
              "       [ 7.53      ],\n",
              "       [ 6.93      ],\n",
              "       [ 6.34      ],\n",
              "       [ 5.87      ],\n",
              "       [ 5.28      ],\n",
              "       [ 5.2       ],\n",
              "       [ 4.8       ],\n",
              "       [ 4.39      ],\n",
              "       [ 4.13      ],\n",
              "       [ 4.07      ],\n",
              "       [ 3.85      ],\n",
              "       [ 3.62      ],\n",
              "       [ 3.39      ],\n",
              "       [ 3.18      ],\n",
              "       [11.5       ],\n",
              "       [11.48      ],\n",
              "       [11.48      ],\n",
              "       [11.47      ],\n",
              "       [11.47      ],\n",
              "       [11.47      ],\n",
              "       [11.48      ],\n",
              "       [11.48      ],\n",
              "       [11.45      ],\n",
              "       [11.4       ],\n",
              "       [10.97      ],\n",
              "       [10.71      ],\n",
              "       [ 9.6       ],\n",
              "       [ 8.9       ],\n",
              "       [ 8.62      ],\n",
              "       [ 7.98      ],\n",
              "       [ 7.69      ],\n",
              "       [ 7.11      ],\n",
              "       [ 6.9       ],\n",
              "       [ 6.55      ],\n",
              "       [ 5.68      ],\n",
              "       [ 5.51      ],\n",
              "       [ 5.11      ],\n",
              "       [ 5.04      ],\n",
              "       [ 4.85      ]])"
            ]
          },
          "metadata": {
            "tags": []
          },
          "execution_count": 108
        }
      ]
    },
    {
      "cell_type": "code",
      "metadata": {
        "id": "gSK7IH4KTvO-",
        "colab_type": "code",
        "colab": {}
      },
      "source": [
        ""
      ],
      "execution_count": 108,
      "outputs": []
    }
  ]
}